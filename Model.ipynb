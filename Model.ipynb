{
 "cells": [
  {
   "cell_type": "code",
   "execution_count": 5,
   "id": "3b2c4c0b",
   "metadata": {},
   "outputs": [],
   "source": [
    "# !pip install pandas\n",
    "# !pip install scikit-learn\n",
    "# !pip install imbalanced-learn\n",
    "# !pip install openpyxl --upgrade\n",
    "# !pip install matplotlib\n",
    "# !pip install missingno\n",
    "# !pip install -q xlrd\n",
    "# !pip install xgboost"
   ]
  },
  {
   "cell_type": "code",
   "execution_count": 84,
   "id": "a88a57a9",
   "metadata": {},
   "outputs": [],
   "source": [
    "import pandas as pd\n",
    "import numpy as np\n",
    "from sklearn.model_selection import train_test_split\n",
    "from sklearn.feature_extraction.text import TfidfVectorizer\n",
    "from imblearn.over_sampling import RandomOverSampler\n",
    "# from sklearn.preprocessing import StandardScaler\n",
    "# from sklearn.ensemble import RandomForestClassifier\n",
    "# from sklearn.multioutput import MultiOutputClassifier\n",
    "from sklearn.preprocessing import LabelEncoder\n",
    "from sklearn.metrics import precision_score, recall_score\n",
    "import xgboost as xgb"
   ]
  },
  {
   "cell_type": "code",
   "execution_count": 85,
   "id": "ae41c033",
   "metadata": {},
   "outputs": [],
   "source": [
    "# Load the dataset\n",
    "data = pd.read_excel('Dataset_Public.xlsx')"
   ]
  },
  {
   "cell_type": "code",
   "execution_count": 86,
   "id": "22aa9498",
   "metadata": {},
   "outputs": [
    {
     "data": {
      "text/plain": [
       "(191690, 3)"
      ]
     },
     "execution_count": 86,
     "metadata": {},
     "output_type": "execute_result"
    }
   ],
   "source": [
    "data.shape"
   ]
  },
  {
   "cell_type": "code",
   "execution_count": 87,
   "id": "05937db4",
   "metadata": {},
   "outputs": [
    {
     "data": {
      "text/plain": [
       "<bound method DataFrame.info of                                         Claim Description Coverage Code  \\\n",
       "0       THE IV WAS MAKING A LEFT TURN ON A GREEN ARROW...            AN   \n",
       "1       CLAIMANT ALLEGES SHE SUFFERED INJURIES IN AN E...            GB   \n",
       "2       IV PASSENGER SUSTAINED INJURIES, OV AND IV COL...            AB   \n",
       "3       CLAIMANT ALLEGES SHE WAS BURNED UNKNOWN DEGREE...            PA   \n",
       "4       THE IV WAS MERGING INTO A CONSTRUCTION ZONE WH...            AD   \n",
       "...                                                   ...           ...   \n",
       "191685            SOME WOOD FELL OVER AND HIT GUESTS LEGS            GB   \n",
       "191686  FEMALE FELL DOWN ON PLATFORM.                 ...            AB   \n",
       "191687  IWAS DRIVING DOWNHILL IN CUSTOMER YARD ON WET ...            AD   \n",
       "191688  DONNA GEORGE WAS WALKING UP TO REGISTER 2 AND ...            PM   \n",
       "191689  UNIT 3 WAS TRAVELING EASTBOUND ON SH 97 BEHIND...            AB   \n",
       "\n",
       "                   Accident Source  \n",
       "0       Struck pedestrian, bicycle  \n",
       "1               Elevator/Escalator  \n",
       "2         Sideswipe or lane change  \n",
       "3                     Food Product  \n",
       "4           Struck vehicle in rear  \n",
       "...                            ...  \n",
       "191685    Alleged lack of security  \n",
       "191686    Not Otherwise Classified  \n",
       "191687    Sideswipe or lane change  \n",
       "191688       Alleged Negligent Act  \n",
       "191689    Sideswipe or lane change  \n",
       "\n",
       "[191690 rows x 3 columns]>"
      ]
     },
     "execution_count": 87,
     "metadata": {},
     "output_type": "execute_result"
    }
   ],
   "source": [
    "data.info"
   ]
  },
  {
   "cell_type": "code",
   "execution_count": 88,
   "id": "0411885b",
   "metadata": {},
   "outputs": [],
   "source": [
    "# Data Cleaning for \"Claim Description\" column\n",
    "def clean_text(text):\n",
    "    # Remove special characters, numbers, and extra whitespaces\n",
    "    text = ' '.join(word for word in text.split() if word.isalpha())\n",
    "    # Convert text to lowercase\n",
    "    text = text.lower()\n",
    "    return text"
   ]
  },
  {
   "cell_type": "code",
   "execution_count": 89,
   "id": "29968b0b",
   "metadata": {},
   "outputs": [
    {
     "data": {
      "text/plain": [
       "Claim Description    227\n",
       "Coverage Code          0\n",
       "Accident Source        0\n",
       "dtype: int64"
      ]
     },
     "execution_count": 89,
     "metadata": {},
     "output_type": "execute_result"
    }
   ],
   "source": [
    "# show nan values \n",
    "data.isna().sum()"
   ]
  },
  {
   "cell_type": "code",
   "execution_count": 90,
   "id": "50e91df5",
   "metadata": {},
   "outputs": [],
   "source": [
    "# Handling Missing Values (if any)\n",
    "data.dropna(subset=['Claim Description'], inplace=True)"
   ]
  },
  {
   "cell_type": "code",
   "execution_count": 91,
   "id": "cf979026",
   "metadata": {},
   "outputs": [
    {
     "data": {
      "text/plain": [
       "Claim Description    0\n",
       "Coverage Code        0\n",
       "Accident Source      0\n",
       "dtype: int64"
      ]
     },
     "execution_count": 91,
     "metadata": {},
     "output_type": "execute_result"
    }
   ],
   "source": [
    "# show nan values  after drop nan values\n",
    "data.isna().sum()"
   ]
  },
  {
   "cell_type": "code",
   "execution_count": 92,
   "id": "a4e13b80",
   "metadata": {},
   "outputs": [],
   "source": [
    "# clean text in Claim Description\n",
    "data['Claim Description'] = data['Claim Description'].apply(clean_text)"
   ]
  },
  {
   "cell_type": "code",
   "execution_count": 94,
   "id": "e38a493c",
   "metadata": {},
   "outputs": [],
   "source": [
    "# Encode Categorical Target Variables\n",
    "label_encoder_coverage = LabelEncoder()\n",
    "label_encoder_accident = LabelEncoder()\n",
    "\n",
    "data['Coverage Code'] = label_encoder_coverage.fit_transform(data['Coverage Code'])\n",
    "data['Accident Source'] = label_encoder_accident.fit_transform(data['Accident Source'])"
   ]
  },
  {
   "cell_type": "code",
   "execution_count": 95,
   "id": "390127f6",
   "metadata": {},
   "outputs": [],
   "source": [
    "# Split the dataset into features (X) and target variables (y)\n",
    "X = data['Claim Description']\n",
    "y_coverage = data['Coverage Code']\n",
    "y_accident_source = data['Accident Source']\n",
    "\n",
    "# Feature Engineering: TF-IDF Vectorization\n",
    "tfidf_vectorizer = TfidfVectorizer(max_features=50,min_df=1,stop_words='english')\n",
    "X_train_tfidf_ = tfidf_vectorizer.fit_transform(X)"
   ]
  },
  {
   "cell_type": "code",
   "execution_count": 96,
   "id": "eb66ffe0",
   "metadata": {},
   "outputs": [],
   "source": [
    "# Split the data into training and testing sets for \"Coverage Code\"\n",
    "X_train_coverage, X_test_coverage, y_train_coverage, y_test_coverage = train_test_split(X_train_tfidf_, y_coverage, test_size=0.2, random_state=42)\n",
    "\n",
    "# Split the data into training and testing sets for \"Accident Source\"\n",
    "X_train_accident_source, X_test_accident_source, y_train_accident_source, y_test_accident_source = train_test_split(X_train_tfidf_, y_accident_source, test_size=0.2, random_state=42)\n",
    "\n"
   ]
  },
  {
   "cell_type": "code",
   "execution_count": 55,
   "id": "67ec467d",
   "metadata": {},
   "outputs": [],
   "source": [
    "# Assuming X_train and y_train are your training data\n",
    "# ros = RandomOverSampler(random_state=42)\n",
    "# X_train_coverage, y_train_coverage = ros.fit_resample(X_train_coverage, y_train_coverage)\n",
    "# X_train_accident_source, y_train_accident_source = ros.fit_resample(X_train_accident_source, y_train_accident_source)\n",
    "\n",
    "# Check the class distribution after oversampling\n",
    "# print(\"Class distribution after oversampling: \", Counter(y_train_as))"
   ]
  },
  {
   "cell_type": "code",
   "execution_count": 101,
   "id": "eba80858",
   "metadata": {},
   "outputs": [
    {
     "name": "stderr",
     "output_type": "stream",
     "text": [
      "c:\\Users\\SUMIT\\Desktop\\Galleghar\\env\\lib\\site-packages\\sklearn\\metrics\\_classification.py:1471: UndefinedMetricWarning: Precision is ill-defined and being set to 0.0 in labels with no predicted samples. Use `zero_division` parameter to control this behavior.\n",
      "  _warn_prf(average, modifier, msg_start, len(result))\n"
     ]
    }
   ],
   "source": [
    "# Create and train XGBoost models for \"Coverage Code\" and \"Accident Source\"\n",
    "# from sklearn.model_selection import GridSearchCV\n",
    "\n",
    "# Define a grid of hyperparameters to search\n",
    "# param_grid_coverage = {\n",
    "#     'n_estimators': [100, 200, 300],\n",
    "#     'max_depth': [3, 5, 7],\n",
    "#     'learning_rate': [0.01, 0.1, 0.2]\n",
    "# }\n",
    "\n",
    "# Create an XGBoost classifier\n",
    "# xgb_model_coverage = xgb.XGBClassifier()\n",
    "\n",
    "# Perform Grid Search to find the best hyperparameters\n",
    "# grid_search_coverage = GridSearchCV(xgb_model_coverage, param_grid=param_grid_coverage, scoring='accuracy', cv=3, n_jobs=-1)\n",
    "# grid_search_coverage.fit(X_train_tfidf_coverage, y_train_coverage)\n",
    "\n",
    "# Get the best hyperparameters\n",
    "# best_params_coverage = grid_search_coverage.best_params_\n",
    "\n",
    "# Train the model with the best hyperparameters\n",
    "best_xgb_model_coverage = xgb.XGBClassifier(n_estimators=100,max_depth=5,learning_rate=0.1)\n",
    "best_xgb_model_coverage.fit(X_train_coverage, y_train_coverage)\n",
    "\n",
    "# Make predictions and calculate precision and recall\n",
    "y_pred_coverage = best_xgb_model_coverage.predict(X_test_coverage)\n",
    "precision_coverage = precision_score(y_test_coverage, y_pred_coverage, average='weighted')\n",
    "recall_coverage = recall_score(y_test_coverage, y_pred_coverage, average='weighted')\n",
    "\n"
   ]
  },
  {
   "cell_type": "code",
   "execution_count": 102,
   "id": "525ee425",
   "metadata": {},
   "outputs": [
    {
     "name": "stderr",
     "output_type": "stream",
     "text": [
      "c:\\Users\\SUMIT\\Desktop\\Galleghar\\env\\lib\\site-packages\\sklearn\\metrics\\_classification.py:1471: UndefinedMetricWarning: Precision is ill-defined and being set to 0.0 in labels with no predicted samples. Use `zero_division` parameter to control this behavior.\n",
      "  _warn_prf(average, modifier, msg_start, len(result))\n"
     ]
    }
   ],
   "source": [
    "# Create an XGBoost classifier\n",
    "# param_grid_accident_source = xgb.XGBClassifier()\n",
    "\n",
    "# grid_search_accident_source = GridSearchCV(xgb_model_accident_source, param_grid=param_grid_accident_source, scoring='accuracy', cv=3, n_jobs=-1)\n",
    "# grid_search_accident_source.fit(X_train_tfidf_accident_source, y_train_accident_source)\n",
    "\n",
    "# best_params_accident_source = grid_search_accident_source.best_params_\n",
    "\n",
    "best_xgb_model_accident_source = xgb.XGBClassifier(n_estimators=100,max_depth=5,learning_rate=0.1)\n",
    "best_xgb_model_accident_source.fit(X_train_accident_source, y_train_accident_source)\n",
    "\n",
    "y_pred_accident_source = best_xgb_model_accident_source.predict(X_test_accident_source)\n",
    "precision_accident_source = precision_score(y_test_accident_source, y_pred_accident_source, average='weighted')\n",
    "recall_accident_source = recall_score(y_test_accident_source, y_pred_accident_source, average='weighted')"
   ]
  },
  {
   "cell_type": "code",
   "execution_count": 105,
   "id": "378e255d",
   "metadata": {},
   "outputs": [
    {
     "name": "stdout",
     "output_type": "stream",
     "text": [
      "Coverage Code Precision: 52.63\n",
      "Coverage Code Recall: 54.13\n",
      "Accident Source Precision: 31.23\n",
      "Accident Source Recall: 31.79\n"
     ]
    }
   ],
   "source": [
    "# Print the results\n",
    "print(\"Coverage Code Precision:\", round(precision_coverage * 100, 2) )\n",
    "print(\"Coverage Code Recall:\", round(recall_coverage * 100, 2) )\n",
    "\n",
    "print(\"Accident Source Precision:\", round(precision_accident_source * 100, 2) )\n",
    "print(\"Accident Source Recall:\", round(recall_accident_source * 100, 2) )"
   ]
  },
  {
   "cell_type": "code",
   "execution_count": 60,
   "id": "92fd95ce",
   "metadata": {},
   "outputs": [],
   "source": [
    "# import joblib\n",
    "import pickle\n",
    "\n",
    "# Save the multi-output classifier model to a file\n",
    "pickle.dump(best_xgb_model_coverage, open(\"xgbModel_cc.pkl\", \"wb\"))\n",
    "# joblib.dump(best_xgb_model_coverage, 'xgbModel_cc.pkl', \"wb\")\n",
    "pickle.dump(best_xgb_model_accident_source, open(\"xgbModel_as.pkl\", \"wb\"))"
   ]
  },
  {
   "cell_type": "code",
   "execution_count": null,
   "id": "d5d45d5a",
   "metadata": {},
   "outputs": [],
   "source": []
  }
 ],
 "metadata": {
  "kernelspec": {
   "display_name": "Python 3 (ipykernel)",
   "language": "python",
   "name": "python3"
  },
  "language_info": {
   "codemirror_mode": {
    "name": "ipython",
    "version": 3
   },
   "file_extension": ".py",
   "mimetype": "text/x-python",
   "name": "python",
   "nbconvert_exporter": "python",
   "pygments_lexer": "ipython3",
   "version": "3.10.4"
  }
 },
 "nbformat": 4,
 "nbformat_minor": 5
}
